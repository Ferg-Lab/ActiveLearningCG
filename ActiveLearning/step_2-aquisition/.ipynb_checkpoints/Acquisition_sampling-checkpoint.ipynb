{
 "cells": [
  {
   "cell_type": "markdown",
   "metadata": {},
   "source": [
    "## Acquisition function\n",
    "Here I show how the aquisition function and are computed and used in selecting the next chemistries to sample for each model.\n",
    "\n",
    "Relavant papers: https://arxiv.org/pdf/1012.2599.pdf"
   ]
  },
  {
   "cell_type": "markdown",
   "metadata": {},
   "source": [
    "## Imports"
   ]
  },
  {
   "cell_type": "code",
   "execution_count": 2,
   "metadata": {
    "ExecuteTime": {
     "end_time": "2020-01-24T16:16:42.465043Z",
     "start_time": "2020-01-24T16:16:42.033462Z"
    }
   },
   "outputs": [
    {
     "data": {
      "application/javascript": [
       "IPython.notebook.set_autosave_interval(180000)"
      ]
     },
     "metadata": {},
     "output_type": "display_data"
    },
    {
     "name": "stdout",
     "output_type": "stream",
     "text": [
      "Autosaving every 180 seconds\n"
     ]
    }
   ],
   "source": [
    "from __future__ import absolute_import\n",
    "from __future__ import division\n",
    "from __future__ import print_function\n",
    "from scipy.spatial.distance import pdist,cdist,squareform\n",
    "from sklearn.gaussian_process.kernels import RBF,WhiteKernel,Matern\n",
    "import itertools\n",
    "import sys\n",
    "import time\n",
    "from random import shuffle,seed\n",
    "from joblib import Parallel, delayed\n",
    "import matplotlib.pyplot as plt\n",
    "%matplotlib inline\n",
    "%autosave 180\n",
    "#seed(42)\n",
    "import numpy as np\n",
    "import pickle\n",
    "from sklearn import preprocessing\n",
    "import random\n",
    "from sklearn.model_selection import LeaveOneOut,KFold\n",
    "from scipy.optimize import minimize,minimize_scalar\n",
    "from sklearn.preprocessing import StandardScaler\n",
    "import warnings\n",
    "warnings.filterwarnings('ignore')\n",
    "from GPR_v2 import GaussianProcessRegressor\n",
    "from Acquisitions import *"
   ]
  },
  {
   "cell_type": "markdown",
   "metadata": {},
   "source": [
    "Load in training data"
   ]
  },
  {
   "cell_type": "code",
   "execution_count": 4,
   "metadata": {
    "ExecuteTime": {
     "end_time": "2020-01-24T16:16:42.955327Z",
     "start_time": "2020-01-24T16:16:42.949279Z"
    }
   },
   "outputs": [],
   "source": [
    "mu_std = np.loadtxt(\"../step_1-GPR/mu_std.dat\")\n",
    "mu = mu_std[:, 0]\n",
    "scaler = StandardScaler()\n",
    "y_scaled = scaler.fit_transform(mu.reshape(-1, 1))\n",
    "std_scaled = mu_std[:, 1] / np.sqrt(scaler.var_)[0]\n",
    "names = np.array([\n",
    "    str(i)[1:]\n",
    "    for i in np.loadtxt(\"../step_1-GPR/names_all.dat\", dtype=\"str\")\n",
    "])"
   ]
  },
  {
   "cell_type": "markdown",
   "metadata": {},
   "source": [
    "## Verify the latent space produces higher $R^2$ scores\n",
    "Here I simply check the $R^2$ score using the hyper paramter `l` found in our cross validation yields reasonable results on our data. Note the $R^2$ scores are quite good, achieving up to $R^2 \\approx 0.8$ for one set. "
   ]
  },
  {
   "cell_type": "code",
   "execution_count": 14,
   "metadata": {
    "ExecuteTime": {
     "end_time": "2019-07-09T18:31:14.700687Z",
     "start_time": "2019-07-09T18:31:14.696975Z"
    }
   },
   "outputs": [
    {
     "data": {
      "text/plain": [
       "array([1.97224316, 6.180658  , 6.00482257, 7.01154955, 7.24627295,\n",
       "       7.35435316, 7.35963106, 8.05735424])"
      ]
     },
     "execution_count": 14,
     "metadata": {},
     "output_type": "execute_result"
    }
   ],
   "source": [
    "a = np.loadtxt(\"optim_param_vae.dat\")\n",
    "a"
   ]
  },
  {
   "cell_type": "code",
   "execution_count": 15,
   "metadata": {
    "ExecuteTime": {
     "end_time": "2019-07-09T18:31:15.054628Z",
     "start_time": "2019-07-09T18:31:14.924988Z"
    }
   },
   "outputs": [
    {
     "name": "stdout",
     "output_type": "stream",
     "text": [
      "0.7383804992880466\n",
      "0.762465066893568\n",
      "0.7250678639541213\n",
      "0.7701990847102533\n",
      "0.7401418576569032\n"
     ]
    }
   ],
   "source": [
    "dim=6\n",
    "l = np.loadtxt(\"optim_param_vae.dat\")[dim-3]\n",
    "z = np.loadtxt(\"z_best_d_{}.dat\".format(dim))\n",
    "peptide = np.loadtxt(\"peptide_{}.dat\".format(dim),dtype=\"str\")\n",
    "in_indicies = np.array([np.where(i==peptide[:,0])[0][0] for i in names])\n",
    "kf = KFold(n_splits=5)\n",
    "kf.get_n_splits(y_scaled)\n",
    "for train_index, test_index in kf.split(y_scaled):\n",
    "    latent_dim = z.shape[1]\n",
    "    initial_input = z[in_indicies[train_index]].reshape(-1,latent_dim)\n",
    "    initial_output = y_scaled[train_index]\n",
    "    alpha_std = std_scaled[train_index]\n",
    "    \n",
    "    kernel = RBF(length_scale=l)\n",
    "    regressor = GaussianProcessRegressor(kernel=kernel, alpha=alpha_std,optimizer=None)\n",
    "    regressor.kernel.set_params(length_scale = l)\n",
    "    regressor.fit(initial_input,initial_output)\n",
    "    \n",
    "    print(regressor.score(z[in_indicies[test_index]],y_scaled[test_index]))"
   ]
  },
  {
   "cell_type": "markdown",
   "metadata": {},
   "source": [
    "Now instatiate the GPR with this value of `l`, but train on the entire training data set."
   ]
  },
  {
   "cell_type": "code",
   "execution_count": 16,
   "metadata": {
    "ExecuteTime": {
     "end_time": "2019-07-09T18:31:15.803356Z",
     "start_time": "2019-07-09T18:31:15.738170Z"
    }
   },
   "outputs": [
    {
     "data": {
      "text/plain": [
       "GaussianProcessRegressor(alpha=array([0.02402, 0.0271 , ..., 0.01982, 0.03373]),\n",
       "             copy_X_train=True, kernel=RBF(length_scale=7.01),\n",
       "             n_restarts_optimizer=0, normalize_y=False, optimizer=None,\n",
       "             random_state=None)"
      ]
     },
     "execution_count": 16,
     "metadata": {},
     "output_type": "execute_result"
    }
   ],
   "source": [
    "latent_dim = z.shape[1]\n",
    "initial_input = z[in_indicies].reshape(-1,latent_dim)\n",
    "initial_output = y_scaled\n",
    "kernel = RBF(length_scale=l)\n",
    "alpha_std = std_scaled\n",
    "regressor = GaussianProcessRegressor(kernel=kernel, alpha=alpha_std,optimizer=None)\n",
    "regressor.kernel.set_params(length_scale = l)\n",
    "regressor.fit(initial_input,initial_output)"
   ]
  },
  {
   "cell_type": "code",
   "execution_count": 17,
   "metadata": {
    "ExecuteTime": {
     "end_time": "2019-07-09T18:31:16.242715Z",
     "start_time": "2019-07-09T18:31:16.217381Z"
    }
   },
   "outputs": [],
   "source": [
    "not_in_indicies = np.array([i for i in range(z.shape[0]) if i not in in_indicies])\n",
    "mu, sigma = regressor.predict(z, return_std=True)\n",
    "mu_sample = regressor.predict(z[in_indicies].reshape(-1,latent_dim))\n",
    "mu = mu.reshape(-1,1)\n",
    "sigma=sigma.reshape(-1,1)"
   ]
  },
  {
   "cell_type": "code",
   "execution_count": 18,
   "metadata": {
    "ExecuteTime": {
     "end_time": "2019-07-09T18:31:18.803300Z",
     "start_time": "2019-07-09T18:31:18.800201Z"
    }
   },
   "outputs": [],
   "source": [
    "pickle.dump((mu,sigma),open(\"mu_sigma.pkl\",\"wb\"))"
   ]
  },
  {
   "cell_type": "markdown",
   "metadata": {},
   "source": [
    "## Expected Improvement\n",
    "The form of the EI acquisition function is:\n",
    "\n",
    "$$\\mathrm { EI } ( \\mathbf { x } ) = \\left\\{ \\begin{array} { l l } { \\left( \\mu ( \\mathbf { x } ) - f \\left( \\mathbf { x } ^ { + } \\right) - \\xi \\right) \\Phi ( Z ) + \\sigma ( \\mathbf { x } ) \\phi ( Z ) } & { \\text { if } \\sigma ( \\mathbf { x } ) > 0 } \\\\ { 0 } & { \\text { if } \\sigma ( \\mathbf { x } ) = 0 } \\end{array} \\right.$$\n",
    "\n",
    "$$Z = \\left\\{ \\begin{array} { l l } { \\frac { \\mu ( \\mathbf { x } ) - f \\left( \\mathbf { x } ^ { + } \\right) - \\xi } { \\sigma ( \\mathbf { x } ) } } & { \\text { if } \\sigma ( \\mathbf { x } ) > 0 } \\\\ { 0 } & { \\text { if } \\sigma ( \\mathbf { x } ) = 0 } \\end{array} \\right.$$\n",
    "\n",
    "Where $\\phi ( \\cdot ) \\text { and } \\Phi ( \\cdot )$ are the PDF and CDF, respectively. \n",
    "\n",
    "I perform a sweep over the parameter $\\xi$ by evaluating the maximum of EI at each value of $\\xi$. Suprisingly, I find EI robust across different values of $\\xi$. The vertical black line represents the value of $\\xi=0.01$ recommended in literature.  "
   ]
  },
  {
   "cell_type": "code",
   "execution_count": null,
   "metadata": {},
   "outputs": [],
   "source": [
    "def plotAq(mu, sigma, mu_sample, peptide, aq_type=\"EI\", supp_text=\"\",exclude=[]):\n",
    "    fmax = np.max(mu_sample)\n",
    "    max_mean = \"D\" + str(peptide[np.argmax(mu)]).upper()\n",
    "    max_std = \"D\" + str(peptide[np.argmax(sigma)]).upper()\n",
    "    xi = np.geomspace(0.0001, 2.5, 1000)\n",
    "\n",
    "    if aq_type == \"EI\":\n",
    "        aq  = list()\n",
    "        for eps in xi:\n",
    "            inds_sort=np.argsort(EIacquisition(mu, sigma, np.max(mu_sample), eps).flatten())[::-1]\n",
    "            first_not_excluded =np.where(np.array([pep in exclude for pep in peptide[inds_sort]])==False)[0][0]\n",
    "            aq.append(inds_sort[first_not_excluded])\n",
    "        aq = np.array(aq)\n",
    "        aq_name = \"Expected improvement acqusition\"\n",
    "\n",
    "    u, indices = np.unique(aq, return_inverse=True)\n",
    "    fig, ax = plt.subplots(1, figsize=(10, 3))\n",
    "    unique_names = np.array([\n",
    "        \"D\" + i.upper() for i in peptide[list(dict.fromkeys(aq))]\n",
    "    ][::-1])\n",
    "    plt.scatter(xi, indices[np.argsort(aq)][::-1])\n",
    "    plt.xscale('log')\n",
    "    plt.axvline(x=0.01, color=\"k\")\n",
    "    plt.xlim(0.0001, 2.5)\n",
    "    plt.title(\n",
    "        aq_name + \"\\n\" + supp_text +\n",
    "        \"\\n Predicted max mean = {} \\n Predicted max std = {}\".format(\n",
    "            max_mean, max_std),\n",
    "        fontsize=20)\n",
    "    plt.xlabel(r\"$\\xi$\"\n",
    "               \"\\n\"\n",
    "               \"Exploit <------------------------------------------> Explore\")\n",
    "    _ = plt.yticks(np.unique(indices), unique_names)\n",
    "    plt.tick_params(axis='y', which='both', labelleft='on', labelright='on')\n",
    "    ax.xaxis.label.set_fontsize(20)\n",
    "    ax.yaxis.set_tick_params(labelsize=20)"
   ]
  },
  {
   "cell_type": "code",
   "execution_count": 12,
   "metadata": {
    "ExecuteTime": {
     "end_time": "2019-07-02T16:22:03.885090Z",
     "start_time": "2019-07-02T16:21:58.174547Z"
    }
   },
   "outputs": [
    {
     "data": {
      "image/png": "[encoded data removed]",
      "text/plain": [
       "<Figure size 720x216 with 1 Axes>"
      ]
     },
     "metadata": {
      "needs_background": "light"
     },
     "output_type": "display_data"
    }
   ],
   "source": [
    "plotAq(mu,sigma,mu_sample,peptide[:,0],aq_type=\"EI\",supp_text=\"(VAE; d = 6)\",exclude=names)"
   ]
  }
 ],
 "metadata": {
  "kernelspec": {
   "display_name": "Python 3",
   "language": "python",
   "name": "python3"
  },
  "language_info": {
   "codemirror_mode": {
    "name": "ipython",
    "version": 3
   },
   "file_extension": ".py",
   "mimetype": "text/x-python",
   "name": "python",
   "nbconvert_exporter": "python",
   "pygments_lexer": "ipython3",
   "version": "3.7.3"
  },
  "varInspector": {
   "cols": {
    "lenName": 16,
    "lenType": 16,
    "lenVar": 40
   },
   "kernels_config": {
    "python": {
     "delete_cmd_postfix": "",
     "delete_cmd_prefix": "del ",
     "library": "var_list.py",
     "varRefreshCmd": "print(var_dic_list())"
    },
    "r": {
     "delete_cmd_postfix": ") ",
     "delete_cmd_prefix": "rm(",
     "library": "var_list.r",
     "varRefreshCmd": "cat(var_dic_list()) "
    }
   },
   "types_to_exclude": [
    "module",
    "function",
    "builtin_function_or_method",
    "instance",
    "_Feature"
   ],
   "window_display": false
  }
 },
 "nbformat": 4,
 "nbformat_minor": 2
}
